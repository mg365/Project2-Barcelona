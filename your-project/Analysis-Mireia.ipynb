{
 "cells": [
  {
   "cell_type": "markdown",
   "metadata": {},
   "source": [
    "## Questions to answer:\n",
    "- What could define a better or worse neighbourhood?\n",
    "- Does the quality (bad,normal,good,etc) of the neighbourhood relate with its death rate? and with the birth rate?\n",
    "- Do the neighbourhoods with higher births or higher population have more schools or hospitals? what about the other facilities (parks, sports centers,etc)"
   ]
  },
  {
   "cell_type": "markdown",
   "metadata": {},
   "source": [
    "### Values to analyse:\n",
    "- **Define Nbh quality**:\n",
    "    - Are there facilities more valuable than others?:\n",
    "        - top 5 for each facility\n",
    "        - worst 5\n",
    "        - top 5 **Nbh** and **Dist** with higher number of facilities\n",
    "        - worst 5 \n",
    "<br><br>         \n",
    "- **Quality and death rate/birth rate**\n",
    "    - top 5 Nhb and Dist with highest birth/death rates\n",
    "    - Nbh and Dist quality ranking (very bad, bad, neither, good, very good)\n",
    "    - find correlation\n",
    "<br><br>  \n",
    "- **Higher birth rate Nbh and Dist have more facilities? And schools in particular?**\n",
    "    - Top 5 Nbh and Dist with highest birth rates\n",
    "    - Facilities number\n",
    "    - schools number\n",
    "<br><br>  \n",
    "- **Nbh and Dist with higher population number have more facilities? And schools in particular?**\n",
    "    - Top 5 Nbh and Dist with highest population\n",
    "    - Facilities number\n",
    "    - schools number"
   ]
  },
  {
   "cell_type": "code",
   "execution_count": null,
   "metadata": {},
   "outputs": [],
   "source": []
  }
 ],
 "metadata": {
  "kernelspec": {
   "display_name": "Python 3",
   "language": "python",
   "name": "python3"
  },
  "language_info": {
   "codemirror_mode": {
    "name": "ipython",
    "version": 3
   },
   "file_extension": ".py",
   "mimetype": "text/x-python",
   "name": "python",
   "nbconvert_exporter": "python",
   "pygments_lexer": "ipython3",
   "version": "3.8.3"
  },
  "toc": {
   "base_numbering": 1,
   "nav_menu": {},
   "number_sections": true,
   "sideBar": true,
   "skip_h1_title": false,
   "title_cell": "Table of Contents",
   "title_sidebar": "Contents",
   "toc_cell": false,
   "toc_position": {},
   "toc_section_display": true,
   "toc_window_display": false
  }
 },
 "nbformat": 4,
 "nbformat_minor": 4
}
