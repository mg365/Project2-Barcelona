{
 "cells": [
  {
   "cell_type": "markdown",
   "metadata": {},
   "source": [
    "# Data filtering"
   ]
  },
  {
   "cell_type": "markdown",
   "metadata": {},
   "source": [
    "## Try outs to figure out what to do"
   ]
  },
  {
   "cell_type": "code",
   "execution_count": 3,
   "metadata": {},
   "outputs": [],
   "source": [
    "import pandas as pd\n",
    "import numpy as np"
   ]
  },
  {
   "cell_type": "code",
   "execution_count": 70,
   "metadata": {},
   "outputs": [],
   "source": [
    "#import the datasets from which we need to obtain the info and summarize\n",
    "\n",
    "children=pd.read_csv(\"../datasets/unfiltered/Children_spaces_bcn.csv\")\n",
    "\n",
    "cinema=pd.read_csv(\"../datasets/unfiltered/Cinemas_and_theatres_bcn.csv\")\n",
    "\n",
    "education=pd.read_csv(\"../datasets/unfiltered/Education_centers_children_bcn.csv\")\n",
    "\n",
    "educationkids=pd.read_csv(\"../datasets/unfiltered/Educative_centers_bcn.csv\")\n",
    "\n",
    "hospital=pd.read_csv(\"../datasets/unfiltered/Hospitals_bcn.csv\")\n",
    "\n",
    "library=pd.read_csv(\"../datasets/unfiltered/Library_and_museums_bcn.csv\")\n",
    "\n",
    "bars=pd.read_csv(\"../datasets/unfiltered/Music_and_drinks_venues_bcn.csv\")\n",
    "\n",
    "park=pd.read_csv(\"../datasets/unfiltered/Parks_and_gardens_bcn.csv\")\n",
    "\n",
    "sport=pd.read_csv(\"../datasets/unfiltered/Sport_facilities_centers.csv\")"
   ]
  },
  {
   "cell_type": "code",
   "execution_count": 133,
   "metadata": {},
   "outputs": [],
   "source": [
    "#Quick look it they uploaded ok\n",
    "\n",
    "#children.head()\n",
    "#hospital.tail(10)\n",
    "\n",
    "#all good and with no index"
   ]
  },
  {
   "cell_type": "code",
   "execution_count": null,
   "metadata": {},
   "outputs": [],
   "source": [
    "#necessary to obtain the times that each neighbourhood appears (variable \"NUM_BARRI\")\n",
    "#and save it"
   ]
  },
  {
   "cell_type": "code",
   "execution_count": 15,
   "metadata": {},
   "outputs": [],
   "source": [
    "#to get a frequency table\n",
    "\n",
    "#COUNT=children.groupby(\"NUM_BARRI\").size()"
   ]
  },
  {
   "cell_type": "code",
   "execution_count": 49,
   "metadata": {},
   "outputs": [],
   "source": [
    "#test1=children.groupby(\"NUM_BARRI\")[\"EQUIPAMENT\"].size()"
   ]
  },
  {
   "cell_type": "code",
   "execution_count": 71,
   "metadata": {},
   "outputs": [],
   "source": [
    "#test2=children.sort_values(\"EQUIPAMENT\")"
   ]
  },
  {
   "cell_type": "code",
   "execution_count": 134,
   "metadata": {},
   "outputs": [],
   "source": [
    "#test2[\"EQUIPAMENT\"].value_counts()"
   ]
  },
  {
   "cell_type": "code",
   "execution_count": 80,
   "metadata": {},
   "outputs": [],
   "source": [
    "#test3=children.drop_duplicates(subset =\"EQUIPAMENT\")"
   ]
  },
  {
   "cell_type": "code",
   "execution_count": 86,
   "metadata": {},
   "outputs": [],
   "source": [
    "#test4=test3.reset_index(drop=True)"
   ]
  },
  {
   "cell_type": "code",
   "execution_count": 92,
   "metadata": {},
   "outputs": [],
   "source": [
    "#test5=test4.groupby(\"NUM_BARRI\")[\"EQUIPAMENT\"].size()"
   ]
  },
  {
   "cell_type": "code",
   "execution_count": 94,
   "metadata": {},
   "outputs": [],
   "source": [
    "#test5.to_csv(\"/Users/mireiaguinovart/Desktop/test5.csv\")"
   ]
  },
  {
   "cell_type": "code",
   "execution_count": 107,
   "metadata": {},
   "outputs": [],
   "source": [
    "#test6=test5.rename(columns={\"NUM_BARRI\":\"Nbh\",\"0\":\"Children_places\"})"
   ]
  },
  {
   "cell_type": "code",
   "execution_count": 135,
   "metadata": {},
   "outputs": [],
   "source": [
    "#test6.columns"
   ]
  },
  {
   "cell_type": "code",
   "execution_count": 110,
   "metadata": {},
   "outputs": [],
   "source": [
    "#test6.to_csv(\"../datasets/Data_filtered/Children_places.csv\")"
   ]
  },
  {
   "cell_type": "markdown",
   "metadata": {},
   "source": [
    "## Now we do the same with all the data sets"
   ]
  },
  {
   "cell_type": "code",
   "execution_count": 125,
   "metadata": {},
   "outputs": [],
   "source": [
    "# Step 1 import the datasets from which we need to obtain the info and summarize\n",
    "\n",
    "children=pd.read_csv(\"../datasets/unfiltered/Children_spaces_bcn.csv\")\n",
    "\n",
    "cinema=pd.read_csv(\"../datasets/unfiltered/Cinemas_and_theatres_bcn.csv\")\n",
    "\n",
    "education=pd.read_csv(\"../datasets/unfiltered/Education_centers_children_bcn.csv\")\n",
    "\n",
    "educationkids=pd.read_csv(\"../datasets/unfiltered/Educative_centers_bcn.csv\")\n",
    "\n",
    "hospital=pd.read_csv(\"../datasets/unfiltered/Hospitals_bcn.csv\")\n",
    "\n",
    "library=pd.read_csv(\"../datasets/unfiltered/Library_and_museums_bcn.csv\")\n",
    "\n",
    "bars=pd.read_csv(\"../datasets/unfiltered/Music_and_drinks_venues_bcn.csv\")\n",
    "\n",
    "park=pd.read_csv(\"../datasets/unfiltered/Parks_and_gardens_bcn.csv\")\n",
    "\n",
    "sport=pd.read_csv(\"../datasets/unfiltered/Sport_facilities_centers.csv\")"
   ]
  },
  {
   "cell_type": "code",
   "execution_count": 126,
   "metadata": {},
   "outputs": [],
   "source": [
    "#sort by EQUIPAMENT-----children.sort_values(\"EQUIPAMENT\",inplace=True)\n",
    "#drop duplicates--------children.drop_duplicates(subset =\"EQUIPAMENT\",inplace=True)\n",
    "#reset index------------children.reset_index(drop=True,inplace=True)\n",
    "#groupby----------------children.groupby(\"NUM_BARRI\")[\"EQUIPAMENT\"].size()"
   ]
  },
  {
   "cell_type": "code",
   "execution_count": 127,
   "metadata": {},
   "outputs": [],
   "source": [
    "#step 1: removing duplicates\n",
    "def sorting (DF):\n",
    "    DF.sort_values(\"EQUIPAMENT\",inplace=True)\n",
    "    DF.drop_duplicates(subset =\"EQUIPAMENT\",inplace=True)\n",
    "    DF.reset_index(drop=True,inplace=True)\n",
    "    \n",
    "sorting(children)\n",
    "sorting(cinema)\n",
    "sorting(education)\n",
    "sorting(educationkids)\n",
    "sorting(hospital)\n",
    "sorting(library)\n",
    "sorting(bars)\n",
    "sorting(park)\n",
    "sorting(sport)"
   ]
  },
  {
   "cell_type": "code",
   "execution_count": 128,
   "metadata": {},
   "outputs": [],
   "source": [
    "#step2: frequency table\n",
    "\n",
    "children=children.groupby(\"NUM_BARRI\").size()\n",
    "\n",
    "cinema=cinema.groupby(\"NUM_BARRI\").size()\n",
    "\n",
    "education=education.groupby(\"NUM_BARRI\").size()\n",
    "\n",
    "educationkids=educationkids.groupby(\"NUM_BARRI\").size()\n",
    "\n",
    "hospital=hospital.groupby(\"NUM_BARRI\").size()\n",
    "\n",
    "library=library.groupby(\"NUM_BARRI\").size()\n",
    "\n",
    "bars=bars.groupby(\"NUM_BARRI\").size()\n",
    "\n",
    "park=park.groupby(\"NUM_BARRI\").size()\n",
    "\n",
    "sport=sport.groupby(\"NUM_BARRI\").size()\n"
   ]
  },
  {
   "cell_type": "code",
   "execution_count": 129,
   "metadata": {},
   "outputs": [],
   "source": [
    "#step3: saving the files as .csv\n",
    "\n",
    "children.to_csv(\"../datasets/Data_filtered/children.csv\")\n",
    "\n",
    "cinema.to_csv(\"../datasets/Data_filtered/cinema.csv\")\n",
    "\n",
    "education.to_csv(\"../datasets/Data_filtered/education.csv\")\n",
    "\n",
    "educationkids.to_csv(\"../datasets/Data_filtered/educationkids.csv\")\n",
    "\n",
    "hospital.to_csv(\"../datasets/Data_filtered/hospital.csv\")\n",
    "\n",
    "library.to_csv(\"../datasets/Data_filtered/library.csv\")\n",
    "\n",
    "bars.to_csv(\"../datasets/Data_filtered/bars.csv\")\n",
    "\n",
    "park.to_csv(\"../datasets/Data_filtered/park.csv\")\n",
    "\n",
    "sport.to_csv(\"../datasets/Data_filtered/sport.csv\")"
   ]
  },
  {
   "cell_type": "code",
   "execution_count": 130,
   "metadata": {},
   "outputs": [],
   "source": [
    "#step4: importing them again\n",
    "\n",
    "children=pd.read_csv(\"../datasets/Data_filtered/children.csv\")\n",
    "\n",
    "cinema=pd.read_csv(\"../datasets/Data_filtered/cinema.csv\")\n",
    "\n",
    "education=pd.read_csv(\"../datasets/Data_filtered/education.csv\")\n",
    "\n",
    "educationkids=pd.read_csv(\"../datasets/Data_filtered/educationkids.csv\")\n",
    "\n",
    "hospital=pd.read_csv(\"../datasets/Data_filtered/hospital.csv\")\n",
    "\n",
    "library=pd.read_csv(\"../datasets/Data_filtered/library.csv\")\n",
    "\n",
    "bars=pd.read_csv(\"../datasets/Data_filtered/bars.csv\")\n",
    "\n",
    "park=pd.read_csv(\"../datasets/Data_filtered/park.csv\")\n",
    "\n",
    "sport=pd.read_csv(\"../datasets/Data_filtered/sport.csv\")\n"
   ]
  },
  {
   "cell_type": "code",
   "execution_count": 131,
   "metadata": {},
   "outputs": [],
   "source": [
    "#step5:renaming the columns\n",
    "\n",
    "children=children.rename(columns={\"NUM_BARRI\":\"Nbh\",\"0\":\"Children_places\"})\n",
    "\n",
    "cinema=cinema.rename(columns={\"NUM_BARRI\":\"Nbh\",\"0\":\"Cinemas_Theatres\"})\n",
    "\n",
    "education=education.rename(columns={\"NUM_BARRI\":\"Nbh\",\"0\":\"Schools\"})\n",
    "\n",
    "educationkids=educationkids.rename(columns={\"NUM_BARRI\":\"Nbh\",\"0\":\"Pre-Schools\"})\n",
    "\n",
    "hospital=hospital.rename(columns={\"NUM_BARRI\":\"Nbh\",\"0\":\"Hospitals\"})\n",
    "\n",
    "library=library.rename(columns={\"NUM_BARRI\":\"Nbh\",\"0\":\"Libraries_Theatres\"})\n",
    "\n",
    "bars=bars.rename(columns={\"NUM_BARRI\":\"Nbh\",\"0\":\"Bars\"})\n",
    "\n",
    "park=park.rename(columns={\"NUM_BARRI\":\"Nbh\",\"0\":\"Park_Gardens\"})\n",
    "\n",
    "sport=sport.rename(columns={\"NUM_BARRI\":\"Nbh\",\"0\":\"Sport_Centers\"})"
   ]
  },
  {
   "cell_type": "code",
   "execution_count": 132,
   "metadata": {},
   "outputs": [],
   "source": [
    "#step6:saving the files again\n",
    "\n",
    "children.to_csv(\"../datasets/Data_filtered/children.csv\")\n",
    "\n",
    "cinema.to_csv(\"../datasets/Data_filtered/cinema.csv\")\n",
    "\n",
    "education.to_csv(\"../datasets/Data_filtered/education.csv\")\n",
    "\n",
    "educationkids.to_csv(\"../datasets/Data_filtered/educationkids.csv\")\n",
    "\n",
    "hospital.to_csv(\"../datasets/Data_filtered/hospital.csv\")\n",
    "\n",
    "library.to_csv(\"../datasets/Data_filtered/library.csv\")\n",
    "\n",
    "bars.to_csv(\"../datasets/Data_filtered/bars.csv\")\n",
    "\n",
    "park.to_csv(\"../datasets/Data_filtered/park.csv\")\n",
    "\n",
    "sport.to_csv(\"../datasets/Data_filtered/sport.csv\")"
   ]
  },
  {
   "cell_type": "markdown",
   "metadata": {},
   "source": [
    "## Let's filter what's left"
   ]
  },
  {
   "cell_type": "code",
   "execution_count": 126,
   "metadata": {},
   "outputs": [],
   "source": [
    "#Step 1: import\n",
    "\n",
    "population=pd.read_csv(\"../datasets/unfiltered/2017_densitat.csv\")\n",
    "\n",
    "rental=pd.read_csv(\"../datasets/unfiltered/2017_lloguer_preu_trim.csv\")\n",
    "\n",
    "tenants=pd.read_csv(\"../datasets/unfiltered/2017_ocupacio_mitjana_domicilis.csv\")\n"
   ]
  },
  {
   "cell_type": "code",
   "execution_count": null,
   "metadata": {},
   "outputs": [],
   "source": [
    "#Step 2: select the columns needed\n",
    "\n",
    "population= population[[\"Nom_Barri\",\"Població\",\"Densitat neta (hab/ha)\"]]\n",
    "\n",
    "rental= rental[[\"Nom_Barri\",\"Preu\"]]\n",
    "\n",
    "tenants=tenants[[\"Nom_Barri\",\"Ocupacio_mitjana\"]]\n"
   ]
  },
  {
   "cell_type": "code",
   "execution_count": null,
   "metadata": {},
   "outputs": [],
   "source": [
    "#Step 3: rename\n",
    "\n",
    "population=population.rename(columns={\"Nom_Barri\":\"Nbh\",\"Població\":\"Population\",\"Densitat neta (hab/ha)\":\"Net_density(hab/ha)\"})\n",
    "\n",
    "rental.rename(columns={\"Nom_Barri\":\"Nbh\",\"Preu\":\"Rental_price(€)/month\"})\n",
    "\n",
    "tenants.rename(columns={\"Nom_Barri\":\"Nbh\",\"Ocupacio_mitjana\":\"Avg_hab_per_house\"})\n"
   ]
  },
  {
   "cell_type": "code",
   "execution_count": null,
   "metadata": {},
   "outputs": [],
   "source": [
    "#Step 4: safe the file\n",
    "\n",
    "population.to_csv(\"../datasets/Data_filtered/population.csv\")\n",
    "\n",
    "rental.to_csv(\"../datasets/Data_filtered/rental.csv\")\n",
    "\n",
    "tenants.to_csv(\"../datasets/Data_filtered/tenants.csv\")"
   ]
  },
  {
   "cell_type": "code",
   "execution_count": 136,
   "metadata": {},
   "outputs": [],
   "source": [
    "#we want to keep:\n",
    "#population (Població) and Densitat neta which is the number of habitans per habitable hectares(ha) residental surface\n",
    "#population.head()"
   ]
  },
  {
   "cell_type": "code",
   "execution_count": 138,
   "metadata": {},
   "outputs": [],
   "source": [
    "#select what I want\n",
    "\n",
    "#population= population[[\"Nom_Barri\",\"Població\",\"Densitat neta (hab/ha)\"]]\n",
    "\n",
    "#population"
   ]
  },
  {
   "cell_type": "code",
   "execution_count": 162,
   "metadata": {},
   "outputs": [],
   "source": [
    "#rename\n",
    "population=population.rename(columns={\"Nom_Barri\":\"Nbh\",\"Població\":\"Population\",\"Densitat neta (hab/ha)\":\"Net_density(hab/ha)\"})"
   ]
  },
  {
   "cell_type": "code",
   "execution_count": 163,
   "metadata": {},
   "outputs": [
    {
     "data": {
      "text/html": [
       "<div>\n",
       "<style scoped>\n",
       "    .dataframe tbody tr th:only-of-type {\n",
       "        vertical-align: middle;\n",
       "    }\n",
       "\n",
       "    .dataframe tbody tr th {\n",
       "        vertical-align: top;\n",
       "    }\n",
       "\n",
       "    .dataframe thead th {\n",
       "        text-align: right;\n",
       "    }\n",
       "</style>\n",
       "<table border=\"1\" class=\"dataframe\">\n",
       "  <thead>\n",
       "    <tr style=\"text-align: right;\">\n",
       "      <th></th>\n",
       "      <th>Nbh</th>\n",
       "      <th>Population</th>\n",
       "      <th>Net_density(hab/ha)</th>\n",
       "    </tr>\n",
       "  </thead>\n",
       "  <tbody>\n",
       "    <tr>\n",
       "      <th>0</th>\n",
       "      <td>el Raval</td>\n",
       "      <td>47608</td>\n",
       "      <td>959</td>\n",
       "    </tr>\n",
       "    <tr>\n",
       "      <th>1</th>\n",
       "      <td>el Barri Gòtic</td>\n",
       "      <td>16062</td>\n",
       "      <td>471</td>\n",
       "    </tr>\n",
       "    <tr>\n",
       "      <th>2</th>\n",
       "      <td>la Barceloneta</td>\n",
       "      <td>14996</td>\n",
       "      <td>1107</td>\n",
       "    </tr>\n",
       "    <tr>\n",
       "      <th>3</th>\n",
       "      <td>Sant Pere, Santa Caterina i la Ribera</td>\n",
       "      <td>22721</td>\n",
       "      <td>700</td>\n",
       "    </tr>\n",
       "    <tr>\n",
       "      <th>4</th>\n",
       "      <td>el Fort Pienc</td>\n",
       "      <td>32016</td>\n",
       "      <td>959</td>\n",
       "    </tr>\n",
       "    <tr>\n",
       "      <th>...</th>\n",
       "      <td>...</td>\n",
       "      <td>...</td>\n",
       "      <td>...</td>\n",
       "    </tr>\n",
       "    <tr>\n",
       "      <th>68</th>\n",
       "      <td>Diagonal Mar i el Front Marítim del Poblenou</td>\n",
       "      <td>13629</td>\n",
       "      <td>592</td>\n",
       "    </tr>\n",
       "    <tr>\n",
       "      <th>69</th>\n",
       "      <td>el Besòs i el Maresme</td>\n",
       "      <td>23009</td>\n",
       "      <td>885</td>\n",
       "    </tr>\n",
       "    <tr>\n",
       "      <th>70</th>\n",
       "      <td>Provençals del Poblenou</td>\n",
       "      <td>20487</td>\n",
       "      <td>1490</td>\n",
       "    </tr>\n",
       "    <tr>\n",
       "      <th>71</th>\n",
       "      <td>Sant Martí de Provençals</td>\n",
       "      <td>26146</td>\n",
       "      <td>1116</td>\n",
       "    </tr>\n",
       "    <tr>\n",
       "      <th>72</th>\n",
       "      <td>la Verneda i la Pau</td>\n",
       "      <td>28691</td>\n",
       "      <td>716</td>\n",
       "    </tr>\n",
       "  </tbody>\n",
       "</table>\n",
       "<p>73 rows × 3 columns</p>\n",
       "</div>"
      ],
      "text/plain": [
       "                                             Nbh  Population  \\\n",
       "0                                       el Raval       47608   \n",
       "1                                 el Barri Gòtic       16062   \n",
       "2                                 la Barceloneta       14996   \n",
       "3          Sant Pere, Santa Caterina i la Ribera       22721   \n",
       "4                                  el Fort Pienc       32016   \n",
       "..                                           ...         ...   \n",
       "68  Diagonal Mar i el Front Marítim del Poblenou       13629   \n",
       "69                         el Besòs i el Maresme       23009   \n",
       "70                       Provençals del Poblenou       20487   \n",
       "71                      Sant Martí de Provençals       26146   \n",
       "72                           la Verneda i la Pau       28691   \n",
       "\n",
       "    Net_density(hab/ha)  \n",
       "0                   959  \n",
       "1                   471  \n",
       "2                  1107  \n",
       "3                   700  \n",
       "4                   959  \n",
       "..                  ...  \n",
       "68                  592  \n",
       "69                  885  \n",
       "70                 1490  \n",
       "71                 1116  \n",
       "72                  716  \n",
       "\n",
       "[73 rows x 3 columns]"
      ]
     },
     "execution_count": 163,
     "metadata": {},
     "output_type": "execute_result"
    }
   ],
   "source": [
    "population"
   ]
  },
  {
   "cell_type": "code",
   "execution_count": 164,
   "metadata": {},
   "outputs": [],
   "source": [
    "#safe the file\n",
    "population.to_csv(\"../datasets/Data_filtered/population.csv\")"
   ]
  },
  {
   "cell_type": "code",
   "execution_count": 136,
   "metadata": {},
   "outputs": [
    {
     "data": {
      "text/html": [
       "<div>\n",
       "<style scoped>\n",
       "    .dataframe tbody tr th:only-of-type {\n",
       "        vertical-align: middle;\n",
       "    }\n",
       "\n",
       "    .dataframe tbody tr th {\n",
       "        vertical-align: top;\n",
       "    }\n",
       "\n",
       "    .dataframe thead th {\n",
       "        text-align: right;\n",
       "    }\n",
       "</style>\n",
       "<table border=\"1\" class=\"dataframe\">\n",
       "  <thead>\n",
       "    <tr style=\"text-align: right;\">\n",
       "      <th></th>\n",
       "      <th>Any</th>\n",
       "      <th>Trimestre</th>\n",
       "      <th>Codi_Districte</th>\n",
       "      <th>Nom_Districte</th>\n",
       "      <th>Codi_Barri</th>\n",
       "      <th>Nom_Barri</th>\n",
       "      <th>Lloguer_mitja</th>\n",
       "      <th>Preu</th>\n",
       "    </tr>\n",
       "  </thead>\n",
       "  <tbody>\n",
       "    <tr>\n",
       "      <th>0</th>\n",
       "      <td>2017</td>\n",
       "      <td>1</td>\n",
       "      <td>1</td>\n",
       "      <td>Ciutat Vella</td>\n",
       "      <td>1</td>\n",
       "      <td>el Raval</td>\n",
       "      <td>Lloguer mitjà mensual (Euros/mes)</td>\n",
       "      <td>734.99</td>\n",
       "    </tr>\n",
       "    <tr>\n",
       "      <th>1</th>\n",
       "      <td>2017</td>\n",
       "      <td>1</td>\n",
       "      <td>1</td>\n",
       "      <td>Ciutat Vella</td>\n",
       "      <td>2</td>\n",
       "      <td>el Barri Gòtic</td>\n",
       "      <td>Lloguer mitjà mensual (Euros/mes)</td>\n",
       "      <td>905.26</td>\n",
       "    </tr>\n",
       "    <tr>\n",
       "      <th>2</th>\n",
       "      <td>2017</td>\n",
       "      <td>1</td>\n",
       "      <td>1</td>\n",
       "      <td>Ciutat Vella</td>\n",
       "      <td>3</td>\n",
       "      <td>la Barceloneta</td>\n",
       "      <td>Lloguer mitjà mensual (Euros/mes)</td>\n",
       "      <td>722.78</td>\n",
       "    </tr>\n",
       "    <tr>\n",
       "      <th>3</th>\n",
       "      <td>2017</td>\n",
       "      <td>1</td>\n",
       "      <td>1</td>\n",
       "      <td>Ciutat Vella</td>\n",
       "      <td>4</td>\n",
       "      <td>Sant Pere, Santa Caterina i la Ribera</td>\n",
       "      <td>Lloguer mitjà mensual (Euros/mes)</td>\n",
       "      <td>895.28</td>\n",
       "    </tr>\n",
       "    <tr>\n",
       "      <th>4</th>\n",
       "      <td>2017</td>\n",
       "      <td>1</td>\n",
       "      <td>2</td>\n",
       "      <td>Eixample</td>\n",
       "      <td>5</td>\n",
       "      <td>el Fort Pienc</td>\n",
       "      <td>Lloguer mitjà mensual (Euros/mes)</td>\n",
       "      <td>871.08</td>\n",
       "    </tr>\n",
       "  </tbody>\n",
       "</table>\n",
       "</div>"
      ],
      "text/plain": [
       "    Any  Trimestre  Codi_Districte Nom_Districte  Codi_Barri  \\\n",
       "0  2017          1               1  Ciutat Vella           1   \n",
       "1  2017          1               1  Ciutat Vella           2   \n",
       "2  2017          1               1  Ciutat Vella           3   \n",
       "3  2017          1               1  Ciutat Vella           4   \n",
       "4  2017          1               2      Eixample           5   \n",
       "\n",
       "                               Nom_Barri                      Lloguer_mitja  \\\n",
       "0                               el Raval  Lloguer mitjà mensual (Euros/mes)   \n",
       "1                         el Barri Gòtic  Lloguer mitjà mensual (Euros/mes)   \n",
       "2                         la Barceloneta  Lloguer mitjà mensual (Euros/mes)   \n",
       "3  Sant Pere, Santa Caterina i la Ribera  Lloguer mitjà mensual (Euros/mes)   \n",
       "4                          el Fort Pienc  Lloguer mitjà mensual (Euros/mes)   \n",
       "\n",
       "     Preu  \n",
       "0  734.99  \n",
       "1  905.26  \n",
       "2  722.78  \n",
       "3  895.28  \n",
       "4  871.08  "
      ]
     },
     "execution_count": 136,
     "metadata": {},
     "output_type": "execute_result"
    }
   ],
   "source": [
    "rental.head()  #Nom_Barri,Preu"
   ]
  },
  {
   "cell_type": "code",
   "execution_count": 137,
   "metadata": {},
   "outputs": [],
   "source": [
    "rental= rental[[\"Nom_Barri\",\"Preu\"]]\n"
   ]
  },
  {
   "cell_type": "code",
   "execution_count": 142,
   "metadata": {},
   "outputs": [
    {
     "data": {
      "text/html": [
       "<div>\n",
       "<style scoped>\n",
       "    .dataframe tbody tr th:only-of-type {\n",
       "        vertical-align: middle;\n",
       "    }\n",
       "\n",
       "    .dataframe tbody tr th {\n",
       "        vertical-align: top;\n",
       "    }\n",
       "\n",
       "    .dataframe thead th {\n",
       "        text-align: right;\n",
       "    }\n",
       "</style>\n",
       "<table border=\"1\" class=\"dataframe\">\n",
       "  <thead>\n",
       "    <tr style=\"text-align: right;\">\n",
       "      <th></th>\n",
       "      <th>Nbh</th>\n",
       "      <th>Rental_price(€)/month</th>\n",
       "    </tr>\n",
       "  </thead>\n",
       "  <tbody>\n",
       "    <tr>\n",
       "      <th>0</th>\n",
       "      <td>el Raval</td>\n",
       "      <td>734.99</td>\n",
       "    </tr>\n",
       "    <tr>\n",
       "      <th>1</th>\n",
       "      <td>el Barri Gòtic</td>\n",
       "      <td>905.26</td>\n",
       "    </tr>\n",
       "    <tr>\n",
       "      <th>2</th>\n",
       "      <td>la Barceloneta</td>\n",
       "      <td>722.78</td>\n",
       "    </tr>\n",
       "    <tr>\n",
       "      <th>3</th>\n",
       "      <td>Sant Pere, Santa Caterina i la Ribera</td>\n",
       "      <td>895.28</td>\n",
       "    </tr>\n",
       "    <tr>\n",
       "      <th>4</th>\n",
       "      <td>el Fort Pienc</td>\n",
       "      <td>871.08</td>\n",
       "    </tr>\n",
       "    <tr>\n",
       "      <th>...</th>\n",
       "      <td>...</td>\n",
       "      <td>...</td>\n",
       "    </tr>\n",
       "    <tr>\n",
       "      <th>579</th>\n",
       "      <td>Diagonal Mar i el Front Marítim del Poblenou</td>\n",
       "      <td>16.51</td>\n",
       "    </tr>\n",
       "    <tr>\n",
       "      <th>580</th>\n",
       "      <td>el Besòs i el Maresme</td>\n",
       "      <td>10.40</td>\n",
       "    </tr>\n",
       "    <tr>\n",
       "      <th>581</th>\n",
       "      <td>Provençals del Poblenou</td>\n",
       "      <td>12.66</td>\n",
       "    </tr>\n",
       "    <tr>\n",
       "      <th>582</th>\n",
       "      <td>Sant Martí de Provençals</td>\n",
       "      <td>10.83</td>\n",
       "    </tr>\n",
       "    <tr>\n",
       "      <th>583</th>\n",
       "      <td>la Verneda i la Pau</td>\n",
       "      <td>10.38</td>\n",
       "    </tr>\n",
       "  </tbody>\n",
       "</table>\n",
       "<p>584 rows × 2 columns</p>\n",
       "</div>"
      ],
      "text/plain": [
       "                                              Nbh  Rental_price(€)/month\n",
       "0                                        el Raval                 734.99\n",
       "1                                  el Barri Gòtic                 905.26\n",
       "2                                  la Barceloneta                 722.78\n",
       "3           Sant Pere, Santa Caterina i la Ribera                 895.28\n",
       "4                                   el Fort Pienc                 871.08\n",
       "..                                            ...                    ...\n",
       "579  Diagonal Mar i el Front Marítim del Poblenou                  16.51\n",
       "580                         el Besòs i el Maresme                  10.40\n",
       "581                       Provençals del Poblenou                  12.66\n",
       "582                      Sant Martí de Provençals                  10.83\n",
       "583                           la Verneda i la Pau                  10.38\n",
       "\n",
       "[584 rows x 2 columns]"
      ]
     },
     "execution_count": 142,
     "metadata": {},
     "output_type": "execute_result"
    }
   ],
   "source": [
    "rental.rename(columns={\"Nom_Barri\":\"Nbh\",\"Preu\":\"Rental_price(€)/month\"})"
   ]
  },
  {
   "cell_type": "code",
   "execution_count": 148,
   "metadata": {},
   "outputs": [],
   "source": [
    "#safe the file\n",
    "rental.to_csv(\"../datasets/Data_filtered/rental.csv\")"
   ]
  },
  {
   "cell_type": "code",
   "execution_count": 149,
   "metadata": {},
   "outputs": [
    {
     "data": {
      "text/html": [
       "<div>\n",
       "<style scoped>\n",
       "    .dataframe tbody tr th:only-of-type {\n",
       "        vertical-align: middle;\n",
       "    }\n",
       "\n",
       "    .dataframe tbody tr th {\n",
       "        vertical-align: top;\n",
       "    }\n",
       "\n",
       "    .dataframe thead th {\n",
       "        text-align: right;\n",
       "    }\n",
       "</style>\n",
       "<table border=\"1\" class=\"dataframe\">\n",
       "  <thead>\n",
       "    <tr style=\"text-align: right;\">\n",
       "      <th></th>\n",
       "      <th>Any</th>\n",
       "      <th>Codi_Districte</th>\n",
       "      <th>Nom_Districte</th>\n",
       "      <th>Codi_Barri</th>\n",
       "      <th>Nom_Barri</th>\n",
       "      <th>Poblacio</th>\n",
       "      <th>Nombre_domicilis</th>\n",
       "      <th>Ocupacio_mitjana</th>\n",
       "    </tr>\n",
       "  </thead>\n",
       "  <tbody>\n",
       "    <tr>\n",
       "      <th>0</th>\n",
       "      <td>2017</td>\n",
       "      <td>1</td>\n",
       "      <td>Ciutat Vella</td>\n",
       "      <td>1</td>\n",
       "      <td>el Raval</td>\n",
       "      <td>47986</td>\n",
       "      <td>17090</td>\n",
       "      <td>2.8</td>\n",
       "    </tr>\n",
       "    <tr>\n",
       "      <th>1</th>\n",
       "      <td>2017</td>\n",
       "      <td>1</td>\n",
       "      <td>Ciutat Vella</td>\n",
       "      <td>2</td>\n",
       "      <td>el Barri Gòtic</td>\n",
       "      <td>16240</td>\n",
       "      <td>6537</td>\n",
       "      <td>2.5</td>\n",
       "    </tr>\n",
       "    <tr>\n",
       "      <th>2</th>\n",
       "      <td>2017</td>\n",
       "      <td>1</td>\n",
       "      <td>Ciutat Vella</td>\n",
       "      <td>3</td>\n",
       "      <td>la Barceloneta</td>\n",
       "      <td>15101</td>\n",
       "      <td>6911</td>\n",
       "      <td>2.2</td>\n",
       "    </tr>\n",
       "    <tr>\n",
       "      <th>3</th>\n",
       "      <td>2017</td>\n",
       "      <td>1</td>\n",
       "      <td>Ciutat Vella</td>\n",
       "      <td>4</td>\n",
       "      <td>Sant Pere, Santa Caterina i la Ribera</td>\n",
       "      <td>22923</td>\n",
       "      <td>10154</td>\n",
       "      <td>2.3</td>\n",
       "    </tr>\n",
       "    <tr>\n",
       "      <th>4</th>\n",
       "      <td>2017</td>\n",
       "      <td>2</td>\n",
       "      <td>Eixample</td>\n",
       "      <td>5</td>\n",
       "      <td>el Fort Pienc</td>\n",
       "      <td>32048</td>\n",
       "      <td>12838</td>\n",
       "      <td>2.5</td>\n",
       "    </tr>\n",
       "  </tbody>\n",
       "</table>\n",
       "</div>"
      ],
      "text/plain": [
       "    Any  Codi_Districte Nom_Districte  Codi_Barri  \\\n",
       "0  2017               1  Ciutat Vella           1   \n",
       "1  2017               1  Ciutat Vella           2   \n",
       "2  2017               1  Ciutat Vella           3   \n",
       "3  2017               1  Ciutat Vella           4   \n",
       "4  2017               2      Eixample           5   \n",
       "\n",
       "                               Nom_Barri  Poblacio  Nombre_domicilis  \\\n",
       "0                               el Raval     47986             17090   \n",
       "1                         el Barri Gòtic     16240              6537   \n",
       "2                         la Barceloneta     15101              6911   \n",
       "3  Sant Pere, Santa Caterina i la Ribera     22923             10154   \n",
       "4                          el Fort Pienc     32048             12838   \n",
       "\n",
       "   Ocupacio_mitjana  \n",
       "0               2.8  \n",
       "1               2.5  \n",
       "2               2.2  \n",
       "3               2.3  \n",
       "4               2.5  "
      ]
     },
     "execution_count": 149,
     "metadata": {},
     "output_type": "execute_result"
    }
   ],
   "source": [
    "tenants.head() #Nom_Barri,Ocupació_mitjana"
   ]
  },
  {
   "cell_type": "code",
   "execution_count": 151,
   "metadata": {},
   "outputs": [],
   "source": [
    "tenants=tenants[[\"Nom_Barri\",\"Ocupacio_mitjana\"]]"
   ]
  },
  {
   "cell_type": "code",
   "execution_count": 155,
   "metadata": {},
   "outputs": [
    {
     "data": {
      "text/html": [
       "<div>\n",
       "<style scoped>\n",
       "    .dataframe tbody tr th:only-of-type {\n",
       "        vertical-align: middle;\n",
       "    }\n",
       "\n",
       "    .dataframe tbody tr th {\n",
       "        vertical-align: top;\n",
       "    }\n",
       "\n",
       "    .dataframe thead th {\n",
       "        text-align: right;\n",
       "    }\n",
       "</style>\n",
       "<table border=\"1\" class=\"dataframe\">\n",
       "  <thead>\n",
       "    <tr style=\"text-align: right;\">\n",
       "      <th></th>\n",
       "      <th>Nbh</th>\n",
       "      <th>Avg_hab_per_house</th>\n",
       "    </tr>\n",
       "  </thead>\n",
       "  <tbody>\n",
       "    <tr>\n",
       "      <th>0</th>\n",
       "      <td>el Raval</td>\n",
       "      <td>2.8</td>\n",
       "    </tr>\n",
       "    <tr>\n",
       "      <th>1</th>\n",
       "      <td>el Barri Gòtic</td>\n",
       "      <td>2.5</td>\n",
       "    </tr>\n",
       "    <tr>\n",
       "      <th>2</th>\n",
       "      <td>la Barceloneta</td>\n",
       "      <td>2.2</td>\n",
       "    </tr>\n",
       "    <tr>\n",
       "      <th>3</th>\n",
       "      <td>Sant Pere, Santa Caterina i la Ribera</td>\n",
       "      <td>2.3</td>\n",
       "    </tr>\n",
       "    <tr>\n",
       "      <th>4</th>\n",
       "      <td>el Fort Pienc</td>\n",
       "      <td>2.5</td>\n",
       "    </tr>\n",
       "    <tr>\n",
       "      <th>...</th>\n",
       "      <td>...</td>\n",
       "      <td>...</td>\n",
       "    </tr>\n",
       "    <tr>\n",
       "      <th>68</th>\n",
       "      <td>Diagonal Mar i el Front Marítim del Poblenou</td>\n",
       "      <td>2.5</td>\n",
       "    </tr>\n",
       "    <tr>\n",
       "      <th>69</th>\n",
       "      <td>el Besòs i el Maresme</td>\n",
       "      <td>2.8</td>\n",
       "    </tr>\n",
       "    <tr>\n",
       "      <th>70</th>\n",
       "      <td>Provençals del Poblenou</td>\n",
       "      <td>2.5</td>\n",
       "    </tr>\n",
       "    <tr>\n",
       "      <th>71</th>\n",
       "      <td>Sant Martí de Provençals</td>\n",
       "      <td>2.5</td>\n",
       "    </tr>\n",
       "    <tr>\n",
       "      <th>72</th>\n",
       "      <td>la Verneda i la Pau</td>\n",
       "      <td>2.5</td>\n",
       "    </tr>\n",
       "  </tbody>\n",
       "</table>\n",
       "<p>73 rows × 2 columns</p>\n",
       "</div>"
      ],
      "text/plain": [
       "                                             Nbh  Avg_hab_per_house\n",
       "0                                       el Raval                2.8\n",
       "1                                 el Barri Gòtic                2.5\n",
       "2                                 la Barceloneta                2.2\n",
       "3          Sant Pere, Santa Caterina i la Ribera                2.3\n",
       "4                                  el Fort Pienc                2.5\n",
       "..                                           ...                ...\n",
       "68  Diagonal Mar i el Front Marítim del Poblenou                2.5\n",
       "69                         el Besòs i el Maresme                2.8\n",
       "70                       Provençals del Poblenou                2.5\n",
       "71                      Sant Martí de Provençals                2.5\n",
       "72                           la Verneda i la Pau                2.5\n",
       "\n",
       "[73 rows x 2 columns]"
      ]
     },
     "execution_count": 155,
     "metadata": {},
     "output_type": "execute_result"
    }
   ],
   "source": [
    "tenants.rename(columns={\"Nom_Barri\":\"Nbh\",\"Ocupacio_mitjana\":\"Avg_hab_per_house\"})"
   ]
  },
  {
   "cell_type": "code",
   "execution_count": 156,
   "metadata": {},
   "outputs": [],
   "source": [
    "tenants.to_csv(\"../datasets/Data_filtered/tenants.csv\")"
   ]
  }
 ],
 "metadata": {
  "kernelspec": {
   "display_name": "Python 3",
   "language": "python",
   "name": "python3"
  },
  "language_info": {
   "codemirror_mode": {
    "name": "ipython",
    "version": 3
   },
   "file_extension": ".py",
   "mimetype": "text/x-python",
   "name": "python",
   "nbconvert_exporter": "python",
   "pygments_lexer": "ipython3",
   "version": "3.8.3"
  },
  "toc": {
   "base_numbering": 1,
   "nav_menu": {},
   "number_sections": true,
   "sideBar": true,
   "skip_h1_title": false,
   "title_cell": "Table of Contents",
   "title_sidebar": "Contents",
   "toc_cell": false,
   "toc_position": {},
   "toc_section_display": true,
   "toc_window_display": false
  }
 },
 "nbformat": 4,
 "nbformat_minor": 4
}
